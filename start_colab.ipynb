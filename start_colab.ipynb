{
 "cells": [
  {
   "cell_type": "code",
   "execution_count": null,
   "metadata": {},
   "outputs": [],
   "source": [
    "# 👉 Instalar dependências\n",
    "!pip install -r requerimentos.txt"
   ]
  },
  {
   "cell_type": "code",
   "execution_count": null,
   "metadata": {},
   "outputs": [],
   "source": [
    "# 👉 Executar o código\n",
    "!python3 main.py"
   ]
  }
 ],
 "metadata": {
  "colab": {
   "name": "start_colab.ipynb",
   "provenance": [],
   "authorship_tag": "generated"
  },
  "kernelspec": {
   "display_name": "Python 3",
   "language": "python",
   "name": "python3"
  },
  "language_info": {
   "name": "python"
  }
 },
 "nbformat": 4,
 "nbformat_minor": 0
}